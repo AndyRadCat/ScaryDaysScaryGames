{
 "cells": [
  {
   "cell_type": "code",
   "execution_count": 1,
   "metadata": {},
   "outputs": [],
   "source": [
    "import random\n",
    "import string"
   ]
  },
  {
   "cell_type": "code",
   "execution_count": 2,
   "metadata": {},
   "outputs": [],
   "source": [
    "word_list = [\"abruptly\", \"askew\", \"azure\", \"blizzard\", \"boxful\", \n",
    "            \"crypt\", \"dirndl\", \"dwarves\", \"fixable\", \"fluffiness\", \"frizzled\",\n",
    "            \"galaxy\", \"gizmo\", \"hazard\", \"heaven\", \"injury\", \"jazzy\", \"lenghts\", \n",
    "            \"nowadays\", \"preumonia\", \"puppy\", \"staff\", \"stronghold\", \"syndrome\",\n",
    "            \"transcript\", \"twelfth\", \"unzip\", \"vodka\", \"wizard\", \"xylophone\", \"zigzag\", \n",
    "            \"zombie\", \"absurd\", \"avenue\", \"bagpipes\", \"beekeeper\", \"cobweb\", \"exodus\",\n",
    "            \"gossip\", \"hyphen\", \"ivory\", \"jawbreaker\", \"joyful\", \"kayak\", \"mystify\",\n",
    "            \"matrix\", \"puzzling\", \"sphinx\", \"strenght\", \"voodoo\", \"waltz\", \"uptown\",\n",
    "            \"whomever\", \"yachtsman\", \"speakers\", \"abyss\", \"awkward\", \"bikini\", \"bookworm\", \n",
    "            \"buffalo\", \"buzzing\", \"cycle\", \"dizzying\", \"equip\", \"faking\", \"foxglove\"\n",
    "            \"funny\", \"gazebo\", \"ivy\", \"jaywalk\", \"jigsaw\", \"jogging\", \"juicy\", \"kiosk\",\n",
    "            \"luxury\", \"megahertz\", \"oxygen\", \"pixel\", \"quartz\", \"scratch\", \"strengths\",\n",
    "            \"subway\", \"transplant\", \"unknown\", \"vaporize\", \"vortex\", \"wave\", \"wheezy\", \n",
    "            \"wimpy\", \"wristwatch\", \"zephyr\", \"zipper\", \"axiom\", \"banjo\", \"blitz\", \"boxcar\",\n",
    "            \"buffoon\", \"buzzwords\", \"croquet\", \"daiquiri\", \"espionage\", \"fishhook\", \"flopping\",\n",
    "            \"gnarly\", \"haiku\", \"icebox\", \"jackpot\", \"jinx\", \"jukebox\", \"keyhole\", \"kitsch\",\n",
    "            \"microwave\", \"nightclub\", \"pajama\", \"psyche\", \"queue\", \"quizzes\", \"iteration\",\n",
    "            \"squawk\", \"stretch\", \"swivel\", \"topaz\", \"unworthy\", \"vixen\", \"voyeurism\", \"wavy\",\n",
    "            \"whiskey\", \"whitchcraft\", \"zodiac\", \"lucky\", \"faux\", \"bomb\", \"ironhack\", \"mock\", \"muck\",\n",
    "            \"void\", \"baby\", \"fluorescent\", \"accomodate\", \"psychiatrist\", \"occasionally\",\n",
    "            \"necessary\", \"questionnaire\", \"mischievous\", \"rhythm\", \"miniscule\", \"grey\",\n",
    "            \"cancelled\", \"definitely\", \"yummy\", \"appreciate\", \"restaurant\", \"ninety\",\n",
    "            \"niece\", \"embarrassed\", \"liaison\", \"millennium\", \"friend\", \"ridiculous\", \"sky\",\n",
    "            \"sphynx\", \"wax\", \"gym\", \"ventriloquism\", \"error\", \"honk\", \"horror\", \"juggle\",\n",
    "            \"hangman\", \"oat\", \"eat\", \"dragon\", \"critique\", \"genre\", \"brunette\",\n",
    "            \"triangulation\", \"acres\", \"poetry\", \"relationship\", \"remarkable\", \"tobacco\",\n",
    "            \"thumb\", \"simplest\", \"shallow\", \"mathematics\", \"slope\", \"shout\", \"vessels\",\n",
    "             \"swung\", \"toy\", \"wolf\", \"shaking\", \"trap\", \"label\", \"image\", \"habit\", \"garage\",\n",
    "             \"monkey\", \"mysterious\", \"fireplace\", \"hunter\"\n",
    "            ]"
   ]
  },
  {
   "cell_type": "code",
   "execution_count": 54,
   "metadata": {},
   "outputs": [
    {
     "name": "stdout",
     "output_type": "stream",
     "text": [
      "toy\n"
     ]
    }
   ],
   "source": [
    "#works\n",
    "def choose_random_word():\n",
    "    random_word = random.choices(word_list)\n",
    "    return random_word\n",
    "    \n",
    "random_pick = choose_random_word()[0]\n",
    "print(random_word)"
   ]
  },
  {
   "cell_type": "code",
   "execution_count": 55,
   "metadata": {},
   "outputs": [],
   "source": [
    "#works\n",
    "def create_display(random_word):\n",
    "    display = ['_' for x in random_word]\n",
    "    return display\n",
    "\n",
    "show_display = create_display(random_word)\n"
   ]
  },
  {
   "cell_type": "code",
   "execution_count": 30,
   "metadata": {},
   "outputs": [
    {
     "data": {
      "text/plain": [
       "['_', '_', '_']"
      ]
     },
     "execution_count": 30,
     "metadata": {},
     "output_type": "execute_result"
    }
   ],
   "source": [
    "show_display"
   ]
  },
  {
   "cell_type": "code",
   "execution_count": 6,
   "metadata": {},
   "outputs": [
    {
     "data": {
      "text/plain": [
       "['_', '_', '_', '_', '_']"
      ]
     },
     "execution_count": 6,
     "metadata": {},
     "output_type": "execute_result"
    }
   ],
   "source": [
    "create_display('emily')"
   ]
  },
  {
   "cell_type": "code",
   "execution_count": 7,
   "metadata": {},
   "outputs": [
    {
     "data": {
      "text/plain": [
       "'_ _ _ _ '"
      ]
     },
     "execution_count": 7,
     "metadata": {},
     "output_type": "execute_result"
    }
   ],
   "source": [
    "#ignore\n",
    "wording = '_ '*len('word')\n",
    "wording"
   ]
  },
  {
   "cell_type": "code",
   "execution_count": 8,
   "metadata": {},
   "outputs": [
    {
     "data": {
      "text/plain": [
       "'_ _ _ _ _ _ _ _ '"
      ]
     },
     "execution_count": 8,
     "metadata": {},
     "output_type": "execute_result"
    }
   ],
   "source": [
    "#ignore\n",
    "def creating_display(random_word):\n",
    "    words_in_blanks = '_ '*len(random_word)\n",
    "    return words_in_blanks\n",
    "\n",
    "creating_display(random_word)"
   ]
  },
  {
   "cell_type": "code",
   "execution_count": 9,
   "metadata": {},
   "outputs": [
    {
     "data": {
      "text/plain": [
       "'_ _ _ _ _ _ _ _ '"
      ]
     },
     "execution_count": 9,
     "metadata": {},
     "output_type": "execute_result"
    }
   ],
   "source": [
    "#ignore\n",
    "word_blanks = '_ '*len(random_word)\n",
    "word_blanks"
   ]
  },
  {
   "cell_type": "code",
   "execution_count": 52,
   "metadata": {},
   "outputs": [
    {
     "name": "stdout",
     "output_type": "stream",
     "text": [
      "Guess a letter: k\n",
      "thanks\n"
     ]
    }
   ],
   "source": [
    "#works\n",
    "def getting_input():\n",
    "    user_letter = str(input(\"Guess a letter: \"))\n",
    "    if check_input(user_letter) == True:\n",
    "        print(\"thanks\")\n",
    "    else:\n",
    "        print(\"Invalid input\")\n",
    "        user_letter = str(input(\"Guess a letter: \"))\n",
    "    return user_letter\n",
    "\n",
    "user_input = getting_input()"
   ]
  },
  {
   "cell_type": "markdown",
   "metadata": {},
   "source": [
    "### ignore for the moment \n",
    "guessed = []\n",
    "\n",
    "def get_input():\n",
    "    is_valid = False\n",
    "    while not is_valid:\n",
    "        letter_guessed = input(\"Guess a letter: \")\n",
    "        if is_valid == check_input(letter_guessed):\n",
    "            guessed.append(letter_guessed) \n",
    "            print(\"You guessed correctly\")\n",
    "            break\n",
    "        else:\n",
    "            print(\"invalid input\")\n",
    "    return letter_guessed\n",
    "\n",
    "get_input()    "
   ]
  },
  {
   "cell_type": "code",
   "execution_count": 21,
   "metadata": {},
   "outputs": [],
   "source": [
    "#works\n",
    "def check_input(user_letter):\n",
    "    abcs = string.ascii_lowercase\n",
    "    valid = (user_letter in abcs) and (len(user_letter) == 1)\n",
    "    return valid\n",
    "\n"
   ]
  },
  {
   "cell_type": "code",
   "execution_count": 45,
   "metadata": {},
   "outputs": [],
   "source": [
    "#works\n",
    "def update_display(display, random_word, user_letter):\n",
    "    for idx, letter in enumerate(random_word):\n",
    "        if letter == user_letter:\n",
    "            display[idx] = user_letter"
   ]
  },
  {
   "cell_type": "code",
   "execution_count": 58,
   "metadata": {},
   "outputs": [
    {
     "name": "stdout",
     "output_type": "stream",
     "text": [
      "Guess a letter: k\n"
     ]
    },
    {
     "ename": "NameError",
     "evalue": "name 'letters_guessed' is not defined",
     "output_type": "error",
     "traceback": [
      "\u001b[1;31m---------------------------------------------------------------------------\u001b[0m",
      "\u001b[1;31mNameError\u001b[0m                                 Traceback (most recent call last)",
      "\u001b[1;32m<ipython-input-58-981f4e817246>\u001b[0m in \u001b[0;36m<module>\u001b[1;34m\u001b[0m\n\u001b[0;32m      8\u001b[0m     \u001b[1;32mreturn\u001b[0m \u001b[0muser_letter\u001b[0m\u001b[1;33m\u001b[0m\u001b[1;33m\u001b[0m\u001b[0m\n\u001b[0;32m      9\u001b[0m \u001b[1;33m\u001b[0m\u001b[0m\n\u001b[1;32m---> 10\u001b[1;33m \u001b[0muser_input\u001b[0m \u001b[1;33m=\u001b[0m \u001b[0mgetting_input\u001b[0m\u001b[1;33m(\u001b[0m\u001b[1;33m)\u001b[0m\u001b[1;33m\u001b[0m\u001b[1;33m\u001b[0m\u001b[0m\n\u001b[0m\u001b[0;32m     11\u001b[0m \u001b[1;33m\u001b[0m\u001b[0m\n\u001b[0;32m     12\u001b[0m \u001b[1;32mdef\u001b[0m \u001b[0mplay_hangman\u001b[0m\u001b[1;33m(\u001b[0m\u001b[1;33m)\u001b[0m\u001b[1;33m:\u001b[0m\u001b[1;33m\u001b[0m\u001b[1;33m\u001b[0m\u001b[0m\n",
      "\u001b[1;32m<ipython-input-58-981f4e817246>\u001b[0m in \u001b[0;36mgetting_input\u001b[1;34m()\u001b[0m\n\u001b[0;32m      2\u001b[0m     \u001b[0muser_letter\u001b[0m \u001b[1;33m=\u001b[0m \u001b[0mstr\u001b[0m\u001b[1;33m(\u001b[0m\u001b[0minput\u001b[0m\u001b[1;33m(\u001b[0m\u001b[1;34m\"Guess a letter: \"\u001b[0m\u001b[1;33m)\u001b[0m\u001b[1;33m)\u001b[0m\u001b[1;33m\u001b[0m\u001b[1;33m\u001b[0m\u001b[0m\n\u001b[0;32m      3\u001b[0m     \u001b[1;32mif\u001b[0m \u001b[0mcheck_input\u001b[0m\u001b[1;33m(\u001b[0m\u001b[0muser_letter\u001b[0m\u001b[1;33m)\u001b[0m \u001b[1;33m==\u001b[0m \u001b[1;32mTrue\u001b[0m\u001b[1;33m:\u001b[0m\u001b[1;33m\u001b[0m\u001b[1;33m\u001b[0m\u001b[0m\n\u001b[1;32m----> 4\u001b[1;33m         \u001b[0mletters_guessed\u001b[0m\u001b[1;33m.\u001b[0m\u001b[0mappend\u001b[0m\u001b[1;33m(\u001b[0m\u001b[0muser_letter\u001b[0m\u001b[1;33m)\u001b[0m\u001b[1;33m\u001b[0m\u001b[1;33m\u001b[0m\u001b[0m\n\u001b[0m\u001b[0;32m      5\u001b[0m     \u001b[1;32melse\u001b[0m\u001b[1;33m:\u001b[0m\u001b[1;33m\u001b[0m\u001b[1;33m\u001b[0m\u001b[0m\n\u001b[0;32m      6\u001b[0m         \u001b[0mprint\u001b[0m\u001b[1;33m(\u001b[0m\u001b[1;34m\"Invalid input\"\u001b[0m\u001b[1;33m)\u001b[0m\u001b[1;33m\u001b[0m\u001b[1;33m\u001b[0m\u001b[0m\n",
      "\u001b[1;31mNameError\u001b[0m: name 'letters_guessed' is not defined"
     ]
    }
   ],
   "source": [
    "def getting_input():\n",
    "    user_letter = str(input(\"Guess a letter: \"))\n",
    "    if check_input(user_letter) == True:\n",
    "        letters_guessed.append(user_letter)\n",
    "    else:\n",
    "        print(\"Invalid input\")\n",
    "        user_letter = str(input(\"Guess a letter: \"))\n",
    "    return user_letter\n",
    "\n",
    "user_input = getting_input()\n",
    "\n",
    "def play_hangman():\n",
    "    random_pick #random_word function\n",
    "    guessed_correctly = False\n",
    "    incorrect_guesses = 6\n",
    "    letters_guessed = []\n",
    "    print(\"Let's start\")\n",
    "    print(\"You get 6 wrong guesses\")\n",
    "    \n",
    "    while not guessed_correctly and incorrect_guesses > 0:\n",
    "        show_display\n",
    "        user_input #function to get the input\n",
    "        if user_letter in letters_guessed:\n",
    "            print(\"You have already guessed that letter:\", user_letter)\n",
    "        elif user_letter not in random_word:\n",
    "            print(f\"The letter {user_letter} is not in the word\")\n",
    "            incorrect_guesses -= 1\n",
    "            letters_guessed.append(user_letter)\n",
    "        else:\n",
    "            print(f\"You guessed right! {user_letter} is in the word\")\n",
    "            letters_guessed.append(user_letter)\n",
    "            update_display(display, random_word, user_letter)\n",
    "            if \"_\" not in show_display:\n",
    "                guessed_correctly = True\n",
    "            else: \n",
    "                guessed_correctly = False\n",
    "            "
   ]
  },
  {
   "cell_type": "code",
   "execution_count": 57,
   "metadata": {},
   "outputs": [
    {
     "name": "stdout",
     "output_type": "stream",
     "text": [
      "Let's start\n"
     ]
    },
    {
     "ename": "NameError",
     "evalue": "name 'user_letter' is not defined",
     "output_type": "error",
     "traceback": [
      "\u001b[1;31m---------------------------------------------------------------------------\u001b[0m",
      "\u001b[1;31mNameError\u001b[0m                                 Traceback (most recent call last)",
      "\u001b[1;32m<ipython-input-57-3c19a3bd4eb8>\u001b[0m in \u001b[0;36m<module>\u001b[1;34m\u001b[0m\n\u001b[1;32m----> 1\u001b[1;33m \u001b[0mplay_hangman\u001b[0m\u001b[1;33m(\u001b[0m\u001b[1;33m)\u001b[0m\u001b[1;33m\u001b[0m\u001b[1;33m\u001b[0m\u001b[0m\n\u001b[0m",
      "\u001b[1;32m<ipython-input-50-aca6c606ee5b>\u001b[0m in \u001b[0;36mplay_hangman\u001b[1;34m()\u001b[0m\n\u001b[0;32m     17\u001b[0m     \u001b[1;32mwhile\u001b[0m \u001b[0mnot_break\u001b[0m \u001b[1;32mand\u001b[0m \u001b[0mincorrect_guesses\u001b[0m \u001b[1;33m>\u001b[0m \u001b[1;36m0\u001b[0m\u001b[1;33m:\u001b[0m\u001b[1;33m\u001b[0m\u001b[1;33m\u001b[0m\u001b[0m\n\u001b[0;32m     18\u001b[0m         \u001b[0muser_input\u001b[0m \u001b[1;31m#function to get the input\u001b[0m\u001b[1;33m\u001b[0m\u001b[1;33m\u001b[0m\u001b[0m\n\u001b[1;32m---> 19\u001b[1;33m         \u001b[1;32mif\u001b[0m \u001b[0muser_letter\u001b[0m \u001b[1;32min\u001b[0m \u001b[0mrandom_word\u001b[0m\u001b[1;33m:\u001b[0m\u001b[1;33m\u001b[0m\u001b[1;33m\u001b[0m\u001b[0m\n\u001b[0m\u001b[0;32m     20\u001b[0m             \u001b[0mletters\u001b[0m\u001b[1;33m.\u001b[0m\u001b[0mappend\u001b[0m\u001b[1;33m(\u001b[0m\u001b[0muser_letter\u001b[0m\u001b[1;33m)\u001b[0m\u001b[1;33m\u001b[0m\u001b[1;33m\u001b[0m\u001b[0m\n\u001b[0;32m     21\u001b[0m             \u001b[0mupdate_display\u001b[0m\u001b[1;33m(\u001b[0m\u001b[0mdisplay\u001b[0m\u001b[1;33m,\u001b[0m \u001b[0mrandom_word\u001b[0m\u001b[1;33m,\u001b[0m \u001b[0muser_letter\u001b[0m\u001b[1;33m)\u001b[0m\u001b[1;33m\u001b[0m\u001b[1;33m\u001b[0m\u001b[0m\n",
      "\u001b[1;31mNameError\u001b[0m: name 'user_letter' is not defined"
     ]
    }
   ],
   "source": [
    "play_hangman()"
   ]
  },
  {
   "cell_type": "code",
   "execution_count": null,
   "metadata": {},
   "outputs": [],
   "source": []
  }
 ],
 "metadata": {
  "kernelspec": {
   "display_name": "Python 3",
   "language": "python",
   "name": "python3"
  },
  "language_info": {
   "codemirror_mode": {
    "name": "ipython",
    "version": 3
   },
   "file_extension": ".py",
   "mimetype": "text/x-python",
   "name": "python",
   "nbconvert_exporter": "python",
   "pygments_lexer": "ipython3",
   "version": "3.7.6"
  }
 },
 "nbformat": 4,
 "nbformat_minor": 4
}
