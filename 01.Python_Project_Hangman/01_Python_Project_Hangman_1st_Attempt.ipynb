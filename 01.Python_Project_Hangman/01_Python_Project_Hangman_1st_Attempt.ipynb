{
 "cells": [
  {
   "cell_type": "markdown",
   "metadata": {},
   "source": [
    "    Okay, so... Hangman 🐇"
   ]
  },
  {
   "cell_type": "code",
   "execution_count": 2,
   "metadata": {},
   "outputs": [
    {
     "name": "stdout",
     "output_type": "stream",
     "text": [
      "Hey lovely! want to guess a letter?: l\n"
     ]
    }
   ],
   "source": [
    "#user input (letter and limited to 1 :D)🦖\n",
    "\n",
    "import string\n",
    "import re\n",
    "import random\n",
    "\n",
    "def check_abc():\n",
    "    user_letter = str(input(\"Hey lovely! want to guess a letter?: \"))\n",
    "    abcs = string.ascii_lowercase\n",
    "    while (user_letter not in abcs) and (len(user_letter) > 1):\n",
    "        print(\"Hey! you can only type in one letter\")\n",
    "        user_letter = str(input(\"Hey lovely! want to guess a letter?: \"))\n",
    "    \n",
    "    return user_letter\n",
    "            \n",
    "test = check_abc()"
   ]
  },
  {
   "cell_type": "markdown",
   "metadata": {},
   "source": [
    "### trying it out with re (ignore. managed better with the above)\n",
    "\n",
    "#### (MADE INTO A MARKDOWN BECAUSE IT WAS MAKING SOMETIMES THE KERNEL BE ALL ****) 😵\n",
    "\n",
    "def checker():\n",
    "    user_chars = str(input(\"Hey you! can you give me a letter?: \"))\n",
    "    if not re.match(\"^[a-z]*$\",user_chars):\n",
    "        print(\"You can only feed me letters!!!\")\n",
    "        user_chars = str(input(\"Hey you! can you give me a letter?: \"))\n",
    "    \n",
    "    return user_chars\n",
    "\n",
    "checker()"
   ]
  },
  {
   "cell_type": "code",
   "execution_count": 3,
   "metadata": {},
   "outputs": [
    {
     "data": {
      "text/plain": [
       "200"
      ]
     },
     "execution_count": 3,
     "metadata": {},
     "output_type": "execute_result"
    }
   ],
   "source": [
    "#create pool of words for the hangman \n",
    "#list has no repeated words!!! already CHECKED\n",
    "word_list = [\"abruptly\", \"askew\", \"azure\", \"blizzard\", \"boxful\", \n",
    "            \"crypt\", \"dirndl\", \"dwarves\", \"fixable\", \"fluffiness\", \"frizzled\",\n",
    "            \"galaxy\", \"gizmo\", \"hazard\", \"heaven\", \"injury\", \"jazzy\", \"lenghts\", \n",
    "            \"nowadays\", \"preumonia\", \"puppy\", \"staff\", \"stronghold\", \"syndrome\",\n",
    "            \"transcript\", \"twelfth\", \"unzip\", \"vodka\", \"wizard\", \"xylophone\", \"zigzag\", \n",
    "            \"zombie\", \"absurd\", \"avenue\", \"bagpipes\", \"beekeeper\", \"cobweb\", \"exodus\",\n",
    "            \"gossip\", \"hyphen\", \"ivory\", \"jawbreaker\", \"joyful\", \"kayak\", \"mystify\",\n",
    "            \"matrix\", \"puzzling\", \"sphinx\", \"strenght\", \"voodoo\", \"waltz\", \"uptown\",\n",
    "            \"whomever\", \"yachtsman\", \"speakers\", \"abyss\", \"awkward\", \"bikini\", \"bookworm\", \n",
    "            \"buffalo\", \"buzzing\", \"cycle\", \"dizzying\", \"equip\", \"faking\", \"foxglove\"\n",
    "            \"funny\", \"gazebo\", \"ivy\", \"jaywalk\", \"jigsaw\", \"jogging\", \"juicy\", \"kiosk\",\n",
    "            \"luxury\", \"megahertz\", \"oxygen\", \"pixel\", \"quartz\", \"scratch\", \"strengths\",\n",
    "            \"subway\", \"transplant\", \"unknown\", \"vaporize\", \"vortex\", \"wave\", \"wheezy\", \n",
    "            \"wimpy\", \"wristwatch\", \"zephyr\", \"zipper\", \"axiom\", \"banjo\", \"blitz\", \"boxcar\",\n",
    "            \"buffoon\", \"buzzwords\", \"croquet\", \"daiquiri\", \"espionage\", \"fishhook\", \"flopping\",\n",
    "            \"gnarly\", \"haiku\", \"icebox\", \"jackpot\", \"jinx\", \"jukebox\", \"keyhole\", \"kitsch\",\n",
    "            \"microwave\", \"nightclub\", \"pajama\", \"psyche\", \"queue\", \"quizzes\", \"iteration\",\n",
    "            \"squawk\", \"stretch\", \"swivel\", \"topaz\", \"unworthy\", \"vixen\", \"voyeurism\", \"wavy\",\n",
    "            \"whiskey\", \"whitchcraft\", \"zodiac\", \"lucky\", \"faux\", \"bomb\", \"ironhack\", \"mock\", \"muck\",\n",
    "            \"void\", \"baby\", \"fluorescent\", \"accomodate\", \"psychiatrist\", \"occasionally\",\n",
    "            \"necessary\", \"questionnaire\", \"mischievous\", \"rhythm\", \"miniscule\", \"grey\",\n",
    "            \"cancelled\", \"definitely\", \"yummy\", \"appreciate\", \"restaurant\", \"ninety\",\n",
    "            \"niece\", \"embarrassed\", \"liaison\", \"millennium\", \"friend\", \"ridiculous\", \"sky\",\n",
    "            \"sphynx\", \"wax\", \"gym\", \"ventriloquism\", \"error\", \"honk\", \"horror\", \"juggle\",\n",
    "            \"hangman\", \"oat\", \"eat\", \"dragon\", \"critique\", \"genre\", \"brunette\",\n",
    "            \"triangulation\", \"acres\", \"poetry\", \"relationship\", \"remarkable\", \"tobacco\",\n",
    "            \"thumb\", \"simplest\", \"shallow\", \"mathematics\", \"slope\", \"shout\", \"vessels\",\n",
    "             \"swung\", \"toy\", \"wolf\", \"shaking\", \"trap\", \"label\", \"image\", \"habit\", \"garage\",\n",
    "             \"monkey\", \"mysterious\", \"fireplace\", \"hunter\"\n",
    "            ]\n",
    "\n",
    "len(word_list)"
   ]
  },
  {
   "cell_type": "code",
   "execution_count": 4,
   "metadata": {},
   "outputs": [],
   "source": [
    "#ignore, just to not repeat words\n",
    "def duplicates(word_list):\n",
    "    if len(word_list) == len(set(word_list)):\n",
    "        return True\n",
    "    else:\n",
    "        return False\n",
    "    \n",
    "doubles = duplicates(word_list)"
   ]
  },
  {
   "cell_type": "code",
   "execution_count": 5,
   "metadata": {},
   "outputs": [
    {
     "name": "stdout",
     "output_type": "stream",
     "text": [
      "[]\n"
     ]
    }
   ],
   "source": [
    "#Checking for the repeated words\n",
    "\n",
    "import collections\n",
    "\n",
    "print([item for item, count in collections.Counter(word_list).items() if count > 1])"
   ]
  },
  {
   "cell_type": "code",
   "execution_count": 6,
   "metadata": {},
   "outputs": [
    {
     "data": {
      "text/plain": [
       "['unknown']"
      ]
     },
     "execution_count": 6,
     "metadata": {},
     "output_type": "execute_result"
    }
   ],
   "source": [
    "# choosing a random word from THE list 🐕\n",
    "def choose_random_word():\n",
    "    random_word = random.choices(word_list)\n",
    "    return random_word\n",
    "    \n",
    "random_word = choose_random_word()\n",
    "random_word\n"
   ]
  },
  {
   "cell_type": "code",
   "execution_count": 7,
   "metadata": {},
   "outputs": [],
   "source": [
    "# do it by number of turns? how to do it if they guess wrong and to loose lives? better with turns.. maybe... \n",
    "\n"
   ]
  },
  {
   "cell_type": "code",
   "execution_count": 8,
   "metadata": {},
   "outputs": [],
   "source": [
    "\n",
    "\n",
    "def game_on():\n",
    "    \n",
    "    while (rounds > rounds_gone):\n",
    "        incorrect = 0\n",
    "        for x in random_word:\n",
    "            if x in letters:\n",
    "                print(x)\n",
    "            else:\n",
    "                print(\"_\")\n",
    "                incorrect += 1\n",
    "        if incorrect == 0:\n",
    "            print(\"Du hast gewonnen! coolio\")\n",
    "            print(\"Der(?) Wort ist: \", random_word)\n",
    "            break\n",
    "        one_letter = input(\"Gimme, gimme another letter!: \")\n",
    "        letters += one_letter\n",
    "        if one_letter not in random_word:\n",
    "            rounds_gone -= 1\n",
    "            print(f\"You have not guessed, you have {rounds_gone} more lifes\")\n",
    "            if rounds_gone == 0:\n",
    "                print(\"Schade, but you lost\")\n",
    "                print(random_word)\n",
    "\n"
   ]
  },
  {
   "cell_type": "markdown",
   "metadata": {},
   "source": [
    "😹"
   ]
  },
  {
   "cell_type": "code",
   "execution_count": 9,
   "metadata": {},
   "outputs": [],
   "source": [
    "# ignore! just trying things out\n",
    "def hanging_rounds():\n",
    "    while (rounds > rounds_gone):\n",
    "        if user_letter in random_word:\n",
    "            user_letter.append()\n",
    "            print(\"you guessed right!\")\n",
    "            for x in random_word:\n",
    "                rounds_gone = rounds_gone + 1\n",
    "        elif user_letter not in random_word:\n",
    "            print(\"try again\")\n",
    "            rounds_gone = rounds_gone + 1"
   ]
  },
  {
   "cell_type": "markdown",
   "metadata": {},
   "source": [
    "### showing the guesses user has made \n",
    "*another thought* -- the looping. \n",
    "so you want to position the letter you guessed in the right positions\n",
    "so how do we do this? \n",
    "let's say you have the word: 'speakers' = user chose 'e'\n",
    "so how to place the e in both places? \n",
    "for loop for sure! but still.. how? 🦘"
   ]
  },
  {
   "cell_type": "markdown",
   "metadata": {},
   "source": [
    "It can be 10 rounds, but if user makes 5 mistakes-- BOOM! user out 😵\n",
    "let us defeat the user ;) incorrect guesses = counter! \n",
    "\n",
    "Display the user's correct letter guesses = correct_guess"
   ]
  },
  {
   "cell_type": "markdown",
   "metadata": {},
   "source": [
    "### The for loop of the words 🦐\n",
    "- display an initial string of '_'s equal in length to the word\n",
    "- every time a letter is entered, loop over the letters in the true word, checking for equality, and use the index to replace the respective '_'"
   ]
  },
  {
   "cell_type": "markdown",
   "metadata": {},
   "source": [
    "#first \"replace\" the number of letters to '_'\n",
    "\n",
    "def converter(random_word):\n",
    "    dust = random_word\n",
    "    for a in range(0, len(random_word)):\n",
    "        if ord(new_word[i]) !=\n"
   ]
  },
  {
   "cell_type": "markdown",
   "metadata": {},
   "source": [
    "this is why, this is why, this is why im hot!🐛"
   ]
  },
  {
   "cell_type": "markdown",
   "metadata": {},
   "source": [
    "poffy = random_word\n",
    "\n",
    "def converter(poffy):\n",
    "    for a in poffy:\n",
    "        poffy = str(a)\n",
    "        for puff in range(0, len(poffy)):\n",
    "            if ord(poffy[puff] =)\n",
    "            print(poffy)"
   ]
  },
  {
   "cell_type": "markdown",
   "metadata": {},
   "source": [
    "## All together! right now, over me 🦝(Waschbär power!) just to try it out "
   ]
  },
  {
   "cell_type": "code",
   "execution_count": 10,
   "metadata": {},
   "outputs": [],
   "source": [
    "import string\n",
    "import random\n",
    "\n",
    "word_list = [\"abruptly\", \"askew\", \"azure\", \"blizzard\", \"boxful\", \n",
    "            \"crypt\", \"dirndl\", \"dwarves\", \"fixable\", \"fluffiness\", \"frizzled\",\n",
    "            \"galaxy\", \"gizmo\", \"hazard\", \"heaven\", \"injury\", \"jazzy\", \"lenghts\", \n",
    "            \"nowadays\", \"preumonia\", \"puppy\", \"staff\", \"stronghold\", \"syndrome\",\n",
    "            \"transcript\", \"twelfth\", \"unzip\", \"vodka\", \"wizard\", \"xylophone\", \"zigzag\", \n",
    "            \"zombie\", \"absurd\", \"avenue\", \"bagpipes\", \"beekeeper\", \"cobweb\", \"exodus\",\n",
    "            \"gossip\", \"hyphen\", \"ivory\", \"jawbreaker\", \"joyful\", \"kayak\", \"mystify\",\n",
    "            \"matrix\", \"puzzling\", \"sphinx\", \"strenght\", \"voodoo\", \"waltz\", \"uptown\",\n",
    "            \"whomever\", \"yachtsman\", \"speakers\", \"abyss\", \"awkward\", \"bikini\", \"bookworm\", \n",
    "            \"buffalo\", \"buzzing\", \"cycle\", \"dizzying\", \"equip\", \"faking\", \"foxglove\"\n",
    "            \"funny\", \"gazebo\", \"ivy\", \"jaywalk\", \"jigsaw\", \"jogging\", \"juicy\", \"kiosk\",\n",
    "            \"luxury\", \"megahertz\", \"oxygen\", \"pixel\", \"quartz\", \"scratch\", \"strengths\",\n",
    "            \"subway\", \"transplant\", \"unknown\", \"vaporize\", \"vortex\", \"wave\", \"wheezy\", \n",
    "            \"wimpy\", \"wristwatch\", \"zephyr\", \"zipper\", \"axiom\", \"banjo\", \"blitz\", \"boxcar\",\n",
    "            \"buffoon\", \"buzzwords\", \"croquet\", \"daiquiri\", \"espionage\", \"fishhook\", \"flopping\",\n",
    "            \"gnarly\", \"haiku\", \"icebox\", \"jackpot\", \"jinx\", \"jukebox\", \"keyhole\", \"kitsch\",\n",
    "            \"microwave\", \"nightclub\", \"pajama\", \"psyche\", \"queue\", \"quizzes\", \"iteration\",\n",
    "            \"squawk\", \"stretch\", \"swivel\", \"topaz\", \"unworthy\", \"vixen\", \"voyeurism\", \"wavy\",\n",
    "            \"whiskey\", \"whitchcraft\", \"zodiac\", \"lucky\", \"faux\", \"bomb\", \"ironhack\", \"mock\", \"muck\",\n",
    "            \"void\", \"baby\", \"fluorescent\", \"accomodate\", \"psychiatrist\", \"occasionally\",\n",
    "            \"necessary\", \"questionnaire\", \"mischievous\", \"rhythm\", \"miniscule\", \"grey\",\n",
    "            \"cancelled\", \"definitely\", \"yummy\", \"appreciate\", \"restaurant\", \"ninety\",\n",
    "            \"niece\", \"embarrassed\", \"liaison\", \"millennium\", \"friend\", \"ridiculous\", \"sky\",\n",
    "            \"sphynx\", \"wax\", \"gym\", \"ventriloquism\", \"error\", \"honk\", \"horror\", \"juggle\",\n",
    "            \"hangman\", \"oat\", \"eat\", \"dragon\", \"critique\", \"genre\", \"brunette\",\n",
    "            \"triangulation\", \"acres\", \"poetry\", \"relationship\", \"remarkable\", \"tobacco\",\n",
    "            \"thumb\", \"simplest\", \"shallow\", \"mathematics\", \"slope\", \"shout\", \"vessels\",\n",
    "             \"swung\", \"toy\", \"wolf\", \"shaking\", \"trap\", \"label\", \"image\", \"habit\", \"garage\",\n",
    "             \"monkey\", \"mysterious\", \"fireplace\", \"hunter\"\n",
    "            ]\n",
    "\n",
    "letter = ' '\n",
    "\n",
    "# user input\n",
    "def check_abc():\n",
    "    user_letter = str(input(\"Hey lovely! want to guess a letter?: \"))\n",
    "    abcs = string.ascii_lowercase\n",
    "    while (user_letter not in abcs) and (len(user_letter) > 1):\n",
    "        print(\"Hey! you can only type in one letter\")\n",
    "        user_letter = str(input(\"Hey lovely! want to guess a letter?: \"))\n",
    "    return letter.append(user_letter)\n",
    "\n",
    "# Random word generator\n",
    "def choose_random_word():\n",
    "    random_word = random.choices(word_list)\n",
    "    return random_word\n",
    "\n",
    "# trying out the game logic   \n",
    "\n",
    "\n",
    "def game_on():\n",
    "    incorrect = 6\n",
    "    incorrect_guesses = 0\n",
    "    while (incorrect >= incorrect_guesses):\n",
    "        for x in random_word:\n",
    "            if x in letter:\n",
    "                print(x)\n",
    "            else:\n",
    "                print(\"_\")\n",
    "                incorrect += 1  # I would think this is the conversion the _ so why?\n",
    "                \n",
    "                \n",
    "                \n",
    "                \n",
    "                \n",
    "        if incorrect == 0:\n",
    "            print(\"Du hast gewonnen! coolio\")\n",
    "            print(\"Der(?) Wort ist: \", random_word)\n",
    "            break\n",
    "        user_letter = str(input(\"Do you dare to guess another letter?: \"))\n",
    "        letter += user_letter\n",
    "        if user_letter not in random_word:\n",
    "            incorrect -= 1\n",
    "            print(f\"Sadly, you have not guessed, you have {incorrect} lives left\")\n",
    "            if incorrect == 0:\n",
    "                print(\"Schade, but you lost\")\n",
    "                print(f\"The word you lost to was {random_word}. Try again :)\")\n",
    "                "
   ]
  },
  {
   "cell_type": "code",
   "execution_count": null,
   "metadata": {},
   "outputs": [],
   "source": []
  },
  {
   "cell_type": "markdown",
   "metadata": {},
   "source": [
    "### creating shells of the functions needed\n",
    "### makinng the functions --> small and clean\n",
    "🦉"
   ]
  },
  {
   "cell_type": "code",
   "execution_count": 11,
   "metadata": {},
   "outputs": [],
   "source": [
    "def create_display(random_word):\n",
    "    underscores = ['_' for x in random_word]\n",
    "    return underscores"
   ]
  },
  {
   "cell_type": "code",
   "execution_count": 12,
   "metadata": {},
   "outputs": [
    {
     "data": {
      "text/plain": [
       "['_', '_', '_', '_', '_', '_']"
      ]
     },
     "execution_count": 12,
     "metadata": {},
     "output_type": "execute_result"
    }
   ],
   "source": [
    "create_display('andrea')"
   ]
  },
  {
   "cell_type": "code",
   "execution_count": 19,
   "metadata": {},
   "outputs": [
    {
     "data": {
      "text/plain": [
       "'_ _ _ _ _ _'"
      ]
     },
     "execution_count": 19,
     "metadata": {},
     "output_type": "execute_result"
    }
   ],
   "source": [
    "poffy = create_display('andrea')\n",
    "' '.join(poffy)"
   ]
  },
  {
   "cell_type": "code",
   "execution_count": 51,
   "metadata": {},
   "outputs": [],
   "source": [
    "letters_given = []\n",
    "\n",
    "def get_input():\n",
    "    is_valid = False\n",
    "    while not is_valid:\n",
    "        user_letter = input(\"Guess a letter?: \")\n",
    "        if is_valid == check_input(user_letter):\n",
    "            letters_given.append(user_letter) # should this be done in this step? or elsewhere? \n",
    "        if not is_valid:\n",
    "            print(\"invalid input\")\n",
    "    return user_letter\n",
    "        "
   ]
  },
  {
   "cell_type": "code",
   "execution_count": 52,
   "metadata": {},
   "outputs": [],
   "source": [
    "def check_input(user_letter):\n",
    "    abcs = string.ascii_lowercase\n",
    "    valid = (user_letter in abcs) and (len(user_letter) == 1)\n",
    "    return valid\n",
    "    "
   ]
  },
  {
   "cell_type": "code",
   "execution_count": 53,
   "metadata": {},
   "outputs": [
    {
     "data": {
      "text/plain": [
       "True"
      ]
     },
     "execution_count": 53,
     "metadata": {},
     "output_type": "execute_result"
    }
   ],
   "source": [
    "check_input('b')"
   ]
  },
  {
   "cell_type": "markdown",
   "metadata": {},
   "source": [
    "#ignore! unclean, sinful code 🐑\n",
    "letter = []\n",
    "def check_abc():\n",
    "    user_letter = input(\"Guess a letter?: \")\n",
    "    abcs = string.ascii_lowercase\n",
    "    while (user_letter not in abcs) and (len(user_letter) > 1):\n",
    "        print(\"Hey! you can only type in one letter\")\n",
    "        user_letter = str(input(\"Hey lovely! want to guess a letter?: \"))\n",
    "    return letter.append(user_letter)"
   ]
  },
  {
   "cell_type": "markdown",
   "metadata": {},
   "source": [
    "another display attempt 🦃\n",
    "remember:\n",
    "   <font color = 'purple'> *ONE FUNCTION!</font> remain focused*\n",
    "- just focus on the function! this function goes through a list of letters in the word. \n",
    "- goes through another list the same lenght with the \"_\"\n",
    "- if matching/correct guess: it updates the correct value in the blank list\n",
    "\n",
    "<font color = 'purple'>**enumerate**</font> works more like:\n",
    "for index,item in enumerate(random_word):\n",
    "    do x with index\n",
    "    do y with item\n",
    "\n",
    "- take a letter into the function\n",
    "- check if it exsits in the word:\n",
    "--> ifit does: put that letter in the same place as the corresponding spot in the blank as in original word. \n",
    "\n",
    "**_the index is for keeping track of which black space to replace_**"
   ]
  },
  {
   "cell_type": "code",
   "execution_count": 118,
   "metadata": {},
   "outputs": [],
   "source": [
    "#overcomplicating\n",
    "input_given = [\"a\"]\n",
    "word_random = \"stylish\"\n",
    "unders = '_ '*len(word_random)\n",
    "list_unders = list(unders)\n",
    "\n",
    "def displaying_attempt(word_random):\n",
    "    foxes = [i for i,letter in enumerate(word_random) if letter == input_given]\n",
    "    for index in foxes:\n",
    "        list_unders[index] = input_given\n",
    "    unders = \"\".join(list_unders)\n",
    "                \n",
    "displaying('animal')\n"
   ]
  },
  {
   "cell_type": "code",
   "execution_count": 117,
   "metadata": {},
   "outputs": [],
   "source": [
    "#overcomplicating\n",
    "the_inputs = ['a','e','m','n'] #what the user has given\n",
    "underscore = ['_','_','_'] #the random word \n",
    "\n",
    "def update_display_attempt(letters_given,random_word,user_letter):\n",
    "    for letter in enumerate(random_word):\n",
    "        if letter == user_letter:\n",
    "            letters_given.replace('_', random_word[letter])\n",
    "            \n"
   ]
  },
  {
   "cell_type": "markdown",
   "metadata": {},
   "source": [
    "😴 overcomplicating too much\n",
    "    "
   ]
  },
  {
   "cell_type": "code",
   "execution_count": 119,
   "metadata": {},
   "outputs": [],
   "source": [
    "#overcomplicating\n",
    "def updating_display_attempt():\n",
    "    for a,b in enumerate(random_word):\n",
    "        for x,y in enumerate(letters_given):\n",
    "            if random_word[b] in letters_given:\n",
    "                underscores = underscores[:a] + random_word[a] + random_word[a+1:]\n",
    "            \n",
    "updating_display()"
   ]
  },
  {
   "cell_type": "code",
   "execution_count": null,
   "metadata": {},
   "outputs": [],
   "source": [
    "#breaking the loop!\n",
    "def play_hangman():\n",
    "    not_break = True\n",
    "    incorrect_guesses = 0\n",
    "    display = create_display()\n",
    "    while not_break:\n",
    "        player_input = get_input()\n",
    "        update_display()\n",
    "        \n",
    "        incorrect_guesses += 1\n",
    "        if incorrect_guesses > 6:\n",
    "            not_break = False"
   ]
  },
  {
   "cell_type": "code",
   "execution_count": 133,
   "metadata": {},
   "outputs": [],
   "source": [
    "test_word = \"bobsled\""
   ]
  },
  {
   "cell_type": "code",
   "execution_count": 134,
   "metadata": {},
   "outputs": [
    {
     "data": {
      "text/plain": [
       "['_', '_', '_', '_', '_', '_', '_']"
      ]
     },
     "execution_count": 134,
     "metadata": {},
     "output_type": "execute_result"
    }
   ],
   "source": [
    "display = ['_' for x in test_word]\n",
    "display"
   ]
  },
  {
   "cell_type": "code",
   "execution_count": 135,
   "metadata": {},
   "outputs": [],
   "source": [
    "letter = 'b'"
   ]
  },
  {
   "cell_type": "code",
   "execution_count": 136,
   "metadata": {},
   "outputs": [],
   "source": [
    "def update_display(display, random_word, guessed_letter):\n",
    "    for idx, letter in enumerate(random_word):\n",
    "        if letter == guessed_letter:\n",
    "            display[idx] = guessed_letter"
   ]
  },
  {
   "cell_type": "code",
   "execution_count": 137,
   "metadata": {},
   "outputs": [
    {
     "name": "stdout",
     "output_type": "stream",
     "text": [
      "['_', '_', '_', '_', '_', '_', '_']\n",
      "['b', '_', 'b', '_', '_', '_', '_']\n"
     ]
    }
   ],
   "source": [
    "print(display)\n",
    "update_display(display, test_word, letter)\n",
    "print(display)"
   ]
  },
  {
   "cell_type": "code",
   "execution_count": 1,
   "metadata": {},
   "outputs": [
    {
     "data": {
      "text/plain": [
       "function"
      ]
     },
     "execution_count": 1,
     "metadata": {},
     "output_type": "execute_result"
    }
   ],
   "source": [
    "type(display)"
   ]
  },
  {
   "cell_type": "code",
   "execution_count": null,
   "metadata": {},
   "outputs": [],
   "source": []
  }
 ],
 "metadata": {
  "kernelspec": {
   "display_name": "Python 3",
   "language": "python",
   "name": "python3"
  },
  "language_info": {
   "codemirror_mode": {
    "name": "ipython",
    "version": 3
   },
   "file_extension": ".py",
   "mimetype": "text/x-python",
   "name": "python",
   "nbconvert_exporter": "python",
   "pygments_lexer": "ipython3",
   "version": "3.7.6"
  }
 },
 "nbformat": 4,
 "nbformat_minor": 4
}
