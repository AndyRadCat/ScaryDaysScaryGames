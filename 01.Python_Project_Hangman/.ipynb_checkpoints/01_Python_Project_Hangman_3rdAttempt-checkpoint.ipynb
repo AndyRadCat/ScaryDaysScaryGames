{
 "cells": [
  {
   "cell_type": "code",
   "execution_count": 1,
   "metadata": {},
   "outputs": [],
   "source": [
    "import random\n",
    "import string"
   ]
  },
  {
   "cell_type": "code",
   "execution_count": 2,
   "metadata": {},
   "outputs": [],
   "source": [
    "word_list = [\"abruptly\", \"askew\", \"azure\", \"blizzard\", \"boxful\", \n",
    "            \"crypt\", \"dirndl\", \"dwarves\", \"fixable\", \"fluffiness\", \"frizzled\",\n",
    "            \"galaxy\", \"gizmo\", \"hazard\", \"heaven\", \"injury\", \"jazzy\", \"lenghts\", \n",
    "            \"nowadays\", \"preumonia\", \"puppy\", \"staff\", \"stronghold\", \"syndrome\",\n",
    "            \"transcript\", \"twelfth\", \"unzip\", \"vodka\", \"wizard\", \"xylophone\", \"zigzag\", \n",
    "            \"zombie\", \"absurd\", \"avenue\", \"bagpipes\", \"beekeeper\", \"cobweb\", \"exodus\",\n",
    "            \"gossip\", \"hyphen\", \"ivory\", \"jawbreaker\", \"joyful\", \"kayak\", \"mystify\",\n",
    "            \"matrix\", \"puzzling\", \"sphinx\", \"strenght\", \"voodoo\", \"waltz\", \"uptown\",\n",
    "            \"whomever\", \"yachtsman\", \"speakers\", \"abyss\", \"awkward\", \"bikini\", \"bookworm\", \n",
    "            \"buffalo\", \"buzzing\", \"cycle\", \"dizzying\", \"equip\", \"faking\", \"foxglove\"\n",
    "            \"funny\", \"gazebo\", \"ivy\", \"jaywalk\", \"jigsaw\", \"jogging\", \"juicy\", \"kiosk\",\n",
    "            \"luxury\", \"megahertz\", \"oxygen\", \"pixel\", \"quartz\", \"scratch\", \"strengths\",\n",
    "            \"subway\", \"transplant\", \"unknown\", \"vaporize\", \"vortex\", \"wave\", \"wheezy\", \n",
    "            \"wimpy\", \"wristwatch\", \"zephyr\", \"zipper\", \"axiom\", \"banjo\", \"blitz\", \"boxcar\",\n",
    "            \"buffoon\", \"buzzwords\", \"croquet\", \"daiquiri\", \"espionage\", \"fishhook\", \"flopping\",\n",
    "            \"gnarly\", \"haiku\", \"icebox\", \"jackpot\", \"jinx\", \"jukebox\", \"keyhole\", \"kitsch\",\n",
    "            \"microwave\", \"nightclub\", \"pajama\", \"psyche\", \"queue\", \"quizzes\", \"iteration\",\n",
    "            \"squawk\", \"stretch\", \"swivel\", \"topaz\", \"unworthy\", \"vixen\", \"voyeurism\", \"wavy\",\n",
    "            \"whiskey\", \"whitchcraft\", \"zodiac\", \"lucky\", \"faux\", \"bomb\", \"ironhack\", \"mock\", \"muck\",\n",
    "            \"void\", \"baby\", \"fluorescent\", \"accomodate\", \"psychiatrist\", \"occasionally\",\n",
    "            \"necessary\", \"questionnaire\", \"mischievous\", \"rhythm\", \"miniscule\", \"grey\",\n",
    "            \"cancelled\", \"definitely\", \"yummy\", \"appreciate\", \"restaurant\", \"ninety\",\n",
    "            \"niece\", \"embarrassed\", \"liaison\", \"millennium\", \"friend\", \"ridiculous\", \"sky\",\n",
    "            \"sphynx\", \"wax\", \"gym\", \"ventriloquism\", \"error\", \"honk\", \"horror\", \"juggle\",\n",
    "            \"hangman\", \"oat\", \"eat\", \"dragon\", \"critique\", \"genre\", \"brunette\",\n",
    "            \"triangulation\", \"acres\", \"poetry\", \"relationship\", \"remarkable\", \"tobacco\",\n",
    "            \"thumb\", \"simplest\", \"shallow\", \"mathematics\", \"slope\", \"shout\", \"vessels\",\n",
    "             \"swung\", \"toy\", \"wolf\", \"shaking\", \"trap\", \"label\", \"image\", \"habit\", \"garage\",\n",
    "             \"monkey\", \"mysterious\", \"fireplace\", \"hunter\"\n",
    "            ]"
   ]
  },
  {
   "cell_type": "code",
   "execution_count": 3,
   "metadata": {},
   "outputs": [
    {
     "data": {
      "text/plain": [
       "'horror'"
      ]
     },
     "execution_count": 3,
     "metadata": {},
     "output_type": "execute_result"
    }
   ],
   "source": [
    "def choose_random_word():\n",
    "    random_word = random.choices(word_list)\n",
    "    return random_word\n",
    "    \n",
    "random_pick = choose_random_word()[0]\n",
    "random_pick"
   ]
  },
  {
   "cell_type": "code",
   "execution_count": 4,
   "metadata": {},
   "outputs": [],
   "source": [
    "def create_display(random_pick):\n",
    "    display = ['_' for x in random_pick]\n",
    "    return display\n",
    "\n",
    "show_display = create_display(random_pick)"
   ]
  },
  {
   "cell_type": "code",
   "execution_count": 9,
   "metadata": {},
   "outputs": [
    {
     "name": "stdout",
     "output_type": "stream",
     "text": [
      "Guess a letter: k\n"
     ]
    }
   ],
   "source": [
    "letters_guessed = []\n",
    "\n",
    "def getting_input():\n",
    "    user_letter = str(input(\"Guess a letter: \"))\n",
    "    if check_input(user_letter) == True:\n",
    "        letters_guessed.append(user_letter)\n",
    "    else:\n",
    "        print(\"Invalid input\")\n",
    "        user_letter = str(input(\"Guess a letter: \"))\n",
    "    return user_letter\n",
    "\n",
    "get_input = getting_input()"
   ]
  },
  {
   "cell_type": "code",
   "execution_count": 11,
   "metadata": {},
   "outputs": [],
   "source": [
    "def check_input(get_input):\n",
    "    abcs = string.ascii_lowercase\n",
    "    valid = (get_input in abcs) and (len(get_input) == 1)\n",
    "    return valid"
   ]
  },
  {
   "cell_type": "code",
   "execution_count": 12,
   "metadata": {},
   "outputs": [],
   "source": [
    "def update_display(display, random_pick, get_input):\n",
    "    for idx, letter in enumerate(random_pick):\n",
    "        if letter == get_input:\n",
    "            display[idx] = get_input\n",
    "updated_display = update_display(display, random_pick, get_input)"
   ]
  },
  {
   "cell_type": "code",
   "execution_count": 13,
   "metadata": {},
   "outputs": [],
   "source": [
    "def play_hangman():\n",
    "    random_pick\n",
    "    guessed_correctly = False\n",
    "    incorrect_guesses = 6\n",
    "    print(\"Let's start\")\n",
    "    print(\"You get 6 wrong guesses\")\n",
    "    show_display\n",
    "    while not guessed_correctly and incorrect_guesses > 0:\n",
    "        getting_input()\n",
    "        if (get_input not in letters_guessed) and (get_input in random_pick):\n",
    "            print(f\"That's right! {get_input} is in the word\")\n",
    "            letters_guessed.append(get_input)\n",
    "            updated_display\n",
    "            getting_input()\n",
    "        elif get_input not in random_pick and (get_input in letters_guessed):\n",
    "            print(f\"The letter {get_input} is not in the word\")\n",
    "            incorrect_guesses -= 1\n",
    "            letters_guessed.append(get_input)\n",
    "            getting_input()\n",
    "            updated_display\n",
    "        elif \"_\" not in updated_display:\n",
    "            guessed_correctly = True\n",
    "        else:\n",
    "            print(\"I don't know what's happening\")"
   ]
  },
  {
   "cell_type": "code",
   "execution_count": null,
   "metadata": {},
   "outputs": [
    {
     "name": "stdout",
     "output_type": "stream",
     "text": [
      "Let's start\n",
      "You get 6 wrong guesses\n",
      "Guess a letter: l\n",
      "The letter k is not in the word\n",
      "Guess a letter: h\n",
      "Guess a letter: o\n",
      "The letter k is not in the word\n"
     ]
    }
   ],
   "source": [
    "play_hangman()"
   ]
  },
  {
   "cell_type": "code",
   "execution_count": null,
   "metadata": {},
   "outputs": [],
   "source": []
  },
  {
   "cell_type": "code",
   "execution_count": null,
   "metadata": {},
   "outputs": [],
   "source": []
  },
  {
   "cell_type": "code",
   "execution_count": null,
   "metadata": {},
   "outputs": [],
   "source": []
  }
 ],
 "metadata": {
  "kernelspec": {
   "display_name": "Python 3",
   "language": "python",
   "name": "python3"
  },
  "language_info": {
   "codemirror_mode": {
    "name": "ipython",
    "version": 3
   },
   "file_extension": ".py",
   "mimetype": "text/x-python",
   "name": "python",
   "nbconvert_exporter": "python",
   "pygments_lexer": "ipython3",
   "version": "3.7.6"
  }
 },
 "nbformat": 4,
 "nbformat_minor": 4
}
