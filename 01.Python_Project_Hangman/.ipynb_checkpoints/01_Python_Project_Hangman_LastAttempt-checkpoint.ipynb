{
 "cells": [
  {
   "cell_type": "code",
   "execution_count": 1,
   "metadata": {},
   "outputs": [],
   "source": [
    "import random\n",
    "import string\n"
   ]
  },
  {
   "cell_type": "code",
   "execution_count": 2,
   "metadata": {},
   "outputs": [],
   "source": [
    "word_list = [\"abruptly\", \"askew\", \"azure\", \"blizzard\", \"boxful\",\n",
    "            \"crypt\", \"dirndl\", \"dwarves\", \"fixable\", \"fluffiness\", \"frizzled\",\n",
    "            \"galaxy\", \"gizmo\", \"hazard\", \"heaven\", \"injury\", \"jazzy\", \"lenghts\",\n",
    "            \"nowadays\", \"preumonia\", \"puppy\", \"staff\", \"stronghold\", \"syndrome\",\n",
    "            \"transcript\", \"twelfth\", \"unzip\", \"vodka\", \"wizard\", \"xylophone\", \"zigzag\",\n",
    "            \"zombie\", \"absurd\", \"avenue\", \"bagpipes\", \"beekeeper\", \"cobweb\", \"exodus\",\n",
    "            \"gossip\", \"hyphen\", \"ivory\", \"jawbreaker\", \"joyful\", \"kayak\", \"mystify\",\n",
    "            \"matrix\", \"puzzling\", \"sphinx\", \"strenght\", \"voodoo\", \"waltz\", \"uptown\",\n",
    "            \"whomever\", \"yachtsman\", \"speakers\", \"abyss\", \"awkward\", \"bikini\", \"bookworm\",\n",
    "            \"buffalo\", \"buzzing\", \"cycle\", \"dizzying\", \"equip\", \"faking\", \"foxglove\"\n",
    "            \"funny\", \"gazebo\", \"ivy\", \"jaywalk\", \"jigsaw\", \"jogging\", \"juicy\", \"kiosk\",\n",
    "            \"luxury\", \"megahertz\", \"oxygen\", \"pixel\", \"quartz\", \"scratch\", \"strengths\",\n",
    "            \"subway\", \"transplant\", \"unknown\", \"vaporize\", \"vortex\", \"wave\", \"wheezy\",\n",
    "            \"wimpy\", \"wristwatch\", \"zephyr\", \"zipper\", \"axiom\", \"banjo\", \"blitz\", \"boxcar\",\n",
    "            \"buffoon\", \"buzzwords\", \"croquet\", \"daiquiri\", \"espionage\", \"fishhook\", \"flopping\",\n",
    "            \"gnarly\", \"haiku\", \"icebox\", \"jackpot\", \"jinx\", \"jukebox\", \"keyhole\", \"kitsch\",\n",
    "            \"microwave\", \"nightclub\", \"pajama\", \"psyche\", \"queue\", \"quizzes\", \"iteration\",\n",
    "            \"squawk\", \"stretch\", \"swivel\", \"topaz\", \"unworthy\", \"vixen\", \"voyeurism\", \"wavy\",\n",
    "            \"whiskey\", \"whitchcraft\", \"zodiac\", \"lucky\", \"faux\", \"bomb\", \"ironhack\", \"mock\", \"muck\",\n",
    "            \"void\", \"baby\", \"fluorescent\", \"accomodate\", \"psychiatrist\", \"occasionally\",\n",
    "            \"necessary\", \"questionnaire\", \"mischievous\", \"rhythm\", \"miniscule\", \"grey\",\n",
    "            \"cancelled\", \"definitely\", \"yummy\", \"appreciate\", \"restaurant\", \"ninety\",\n",
    "            \"niece\", \"embarrassed\", \"liaison\", \"millennium\", \"friend\", \"ridiculous\", \"sky\",\n",
    "            \"sphynx\", \"wax\", \"gym\", \"ventriloquism\", \"error\", \"honk\", \"horror\", \"juggle\",\n",
    "            \"hangman\", \"oat\", \"eat\", \"dragon\", \"critique\", \"genre\", \"brunette\",\n",
    "            \"triangulation\", \"acres\", \"poetry\", \"relationship\", \"remarkable\", \"tobacco\",\n",
    "            \"thumb\", \"simplest\", \"shallow\", \"mathematics\", \"slope\", \"shout\", \"vessels\",\n",
    "             \"swung\", \"toy\", \"wolf\", \"shaking\", \"trap\", \"label\", \"image\", \"habit\", \"garage\",\n",
    "             \"monkey\", \"mysterious\", \"fireplace\", \"hunter\"\n",
    "            ]\n"
   ]
  },
  {
   "cell_type": "code",
   "execution_count": 3,
   "metadata": {},
   "outputs": [],
   "source": [
    "def choose_random_word():\n",
    "    random_word = random.choices(word_list)\n",
    "    return random_word\n"
   ]
  },
  {
   "cell_type": "code",
   "execution_count": 4,
   "metadata": {},
   "outputs": [],
   "source": [
    "def create_display(random_pick):\n",
    "    display = ['_' for x in random_pick]\n",
    "    return display\n"
   ]
  },
  {
   "cell_type": "code",
   "execution_count": 5,
   "metadata": {},
   "outputs": [],
   "source": [
    "def check_input(get_input):\n",
    "    abcs = string.ascii_lowercase\n",
    "    valid = (get_input in abcs) and (len(get_input) == 1)\n",
    "    return valid\n"
   ]
  },
  {
   "cell_type": "code",
   "execution_count": 6,
   "metadata": {},
   "outputs": [],
   "source": [
    "def getting_input():\n",
    "    user_letter = str(input(\"Guess a letter: \"))\n",
    "    if check_input(user_letter) == False:\n",
    "        print(\"Invalid input\")\n",
    "        user_letter = getting_input()\n",
    "    return user_letter\n"
   ]
  },
  {
   "cell_type": "code",
   "execution_count": 7,
   "metadata": {},
   "outputs": [],
   "source": [
    "def update_display(display, random_pick, get_input, incorrect_guesses):\n",
    "    for idx, letter in enumerate(random_pick):\n",
    "        if letter == get_input:\n",
    "            display[idx] = get_input\n",
    "    print(display, f'###  {incorrect_guesses} incorrect guesses remaining')\n"
   ]
  },
  {
   "cell_type": "code",
   "execution_count": 8,
   "metadata": {},
   "outputs": [],
   "source": [
    "def play_hangman():\n",
    "    random_word = choose_random_word()[0]\n",
    "    guessed_correctly = False\n",
    "    incorrect_guesses = 6\n",
    "    print(\"Let's start\")\n",
    "    print(\"You get 6 wrong guesses\")\n",
    "    display = create_display(random_word)\n",
    "    letters_guessed = []\n",
    "    while not guessed_correctly and incorrect_guesses > 0:\n",
    "        user_letter = getting_input()\n",
    "        if (user_letter not in letters_guessed) and (user_letter in random_word):\n",
    "            print(f\"That's right! {user_letter} is in the word\")\n",
    "            letters_guessed.append(user_letter)\n",
    "            update_display(display, random_word, user_letter, incorrect_guesses)\n",
    "        elif user_letter not in random_word:  \n",
    "            print(f\"The letter {user_letter} is not in the word ### {incorrect_guesses} incorrect guesses remaining\")\n",
    "            print(random_word)\n",
    "            incorrect_guesses -= 1\n",
    "            letters_guessed.append(user_letter)\n",
    "        elif user_letter in letters_guessed:\n",
    "            print(f\"You already guessed {user_letter} ### {incorrect_guesses} incorrect guesses remaining\")\n",
    "            incorrect_guesses -= 1\n",
    "        elif \"_\" not in display:\n",
    "            print(f\"You correctly guessed the word {''.join(display)}\")\n",
    "            guessed_correctly = True\n",
    "        else:\n",
    "            print(\"I don't know what's happening\")\n"
   ]
  },
  {
   "cell_type": "code",
   "execution_count": null,
   "metadata": {},
   "outputs": [
    {
     "name": "stdout",
     "output_type": "stream",
     "text": [
      "Let's start\n",
      "You get 6 wrong guesses\n",
      "Guess a letter: l\n",
      "The letter l is not in the word ### 6 incorrect guesses remaining\n",
      "jackpot\n"
     ]
    }
   ],
   "source": [
    "play_hangman()"
   ]
  },
  {
   "cell_type": "code",
   "execution_count": null,
   "metadata": {},
   "outputs": [],
   "source": [
    "🐶"
   ]
  },
  {
   "cell_type": "code",
   "execution_count": null,
   "metadata": {},
   "outputs": [],
   "source": []
  }
 ],
 "metadata": {
  "kernelspec": {
   "display_name": "Python 3",
   "language": "python",
   "name": "python3"
  },
  "language_info": {
   "codemirror_mode": {
    "name": "ipython",
    "version": 3
   },
   "file_extension": ".py",
   "mimetype": "text/x-python",
   "name": "python",
   "nbconvert_exporter": "python",
   "pygments_lexer": "ipython3",
   "version": "3.7.6"
  }
 },
 "nbformat": 4,
 "nbformat_minor": 2
}
