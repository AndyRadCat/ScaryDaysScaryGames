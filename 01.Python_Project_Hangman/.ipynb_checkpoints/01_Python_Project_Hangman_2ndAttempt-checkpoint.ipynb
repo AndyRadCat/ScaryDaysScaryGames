{
 "cells": [
  {
   "cell_type": "code",
   "execution_count": 1,
   "metadata": {},
   "outputs": [],
   "source": [
    "import random\n",
    "import string"
   ]
  },
  {
   "cell_type": "code",
   "execution_count": 2,
   "metadata": {},
   "outputs": [],
   "source": [
    "word_list = [\"abruptly\", \"askew\", \"azure\", \"blizzard\", \"boxful\", \n",
    "            \"crypt\", \"dirndl\", \"dwarves\", \"fixable\", \"fluffiness\", \"frizzled\",\n",
    "            \"galaxy\", \"gizmo\", \"hazard\", \"heaven\", \"injury\", \"jazzy\", \"lenghts\", \n",
    "            \"nowadays\", \"preumonia\", \"puppy\", \"staff\", \"stronghold\", \"syndrome\",\n",
    "            \"transcript\", \"twelfth\", \"unzip\", \"vodka\", \"wizard\", \"xylophone\", \"zigzag\", \n",
    "            \"zombie\", \"absurd\", \"avenue\", \"bagpipes\", \"beekeeper\", \"cobweb\", \"exodus\",\n",
    "            \"gossip\", \"hyphen\", \"ivory\", \"jawbreaker\", \"joyful\", \"kayak\", \"mystify\",\n",
    "            \"matrix\", \"puzzling\", \"sphinx\", \"strenght\", \"voodoo\", \"waltz\", \"uptown\",\n",
    "            \"whomever\", \"yachtsman\", \"speakers\", \"abyss\", \"awkward\", \"bikini\", \"bookworm\", \n",
    "            \"buffalo\", \"buzzing\", \"cycle\", \"dizzying\", \"equip\", \"faking\", \"foxglove\"\n",
    "            \"funny\", \"gazebo\", \"ivy\", \"jaywalk\", \"jigsaw\", \"jogging\", \"juicy\", \"kiosk\",\n",
    "            \"luxury\", \"megahertz\", \"oxygen\", \"pixel\", \"quartz\", \"scratch\", \"strengths\",\n",
    "            \"subway\", \"transplant\", \"unknown\", \"vaporize\", \"vortex\", \"wave\", \"wheezy\", \n",
    "            \"wimpy\", \"wristwatch\", \"zephyr\", \"zipper\", \"axiom\", \"banjo\", \"blitz\", \"boxcar\",\n",
    "            \"buffoon\", \"buzzwords\", \"croquet\", \"daiquiri\", \"espionage\", \"fishhook\", \"flopping\",\n",
    "            \"gnarly\", \"haiku\", \"icebox\", \"jackpot\", \"jinx\", \"jukebox\", \"keyhole\", \"kitsch\",\n",
    "            \"microwave\", \"nightclub\", \"pajama\", \"psyche\", \"queue\", \"quizzes\", \"iteration\",\n",
    "            \"squawk\", \"stretch\", \"swivel\", \"topaz\", \"unworthy\", \"vixen\", \"voyeurism\", \"wavy\",\n",
    "            \"whiskey\", \"whitchcraft\", \"zodiac\", \"lucky\", \"faux\", \"bomb\", \"ironhack\", \"mock\", \"muck\",\n",
    "            \"void\", \"baby\", \"fluorescent\", \"accomodate\", \"psychiatrist\", \"occasionally\",\n",
    "            \"necessary\", \"questionnaire\", \"mischievous\", \"rhythm\", \"miniscule\", \"grey\",\n",
    "            \"cancelled\", \"definitely\", \"yummy\", \"appreciate\", \"restaurant\", \"ninety\",\n",
    "            \"niece\", \"embarrassed\", \"liaison\", \"millennium\", \"friend\", \"ridiculous\", \"sky\",\n",
    "            \"sphynx\", \"wax\", \"gym\", \"ventriloquism\", \"error\", \"honk\", \"horror\", \"juggle\",\n",
    "            \"hangman\", \"oat\", \"eat\", \"dragon\", \"critique\", \"genre\", \"brunette\",\n",
    "            \"triangulation\", \"acres\", \"poetry\", \"relationship\", \"remarkable\", \"tobacco\",\n",
    "            \"thumb\", \"simplest\", \"shallow\", \"mathematics\", \"slope\", \"shout\", \"vessels\",\n",
    "             \"swung\", \"toy\", \"wolf\", \"shaking\", \"trap\", \"label\", \"image\", \"habit\", \"garage\",\n",
    "             \"monkey\", \"mysterious\", \"fireplace\", \"hunter\"\n",
    "            ]"
   ]
  },
  {
   "cell_type": "code",
   "execution_count": 6,
   "metadata": {},
   "outputs": [
    {
     "data": {
      "text/plain": [
       "'transcript'"
      ]
     },
     "execution_count": 6,
     "metadata": {},
     "output_type": "execute_result"
    }
   ],
   "source": [
    "#works\n",
    "def choose_random_word():\n",
    "    random_word = random.choices(word_list)\n",
    "    return random_word\n",
    "    \n",
    "random_pick = choose_random_word()[0]\n",
    "random_pick"
   ]
  },
  {
   "cell_type": "code",
   "execution_count": 10,
   "metadata": {},
   "outputs": [],
   "source": [
    "#works\n",
    "def create_display(random_pick):\n",
    "    display = ['_' for x in random_pick]\n",
    "    return display\n",
    "\n",
    "show_display = create_display(random_pick)\n"
   ]
  },
  {
   "cell_type": "code",
   "execution_count": 11,
   "metadata": {},
   "outputs": [
    {
     "data": {
      "text/plain": [
       "['_', '_', '_', '_', '_', '_', '_', '_', '_', '_']"
      ]
     },
     "execution_count": 11,
     "metadata": {},
     "output_type": "execute_result"
    }
   ],
   "source": [
    "show_display"
   ]
  },
  {
   "cell_type": "code",
   "execution_count": 12,
   "metadata": {},
   "outputs": [
    {
     "data": {
      "text/plain": [
       "['_', '_', '_', '_', '_']"
      ]
     },
     "execution_count": 12,
     "metadata": {},
     "output_type": "execute_result"
    }
   ],
   "source": [
    "create_display('emily')"
   ]
  },
  {
   "cell_type": "code",
   "execution_count": 13,
   "metadata": {},
   "outputs": [
    {
     "data": {
      "text/plain": [
       "'_ _ _ _ '"
      ]
     },
     "execution_count": 13,
     "metadata": {},
     "output_type": "execute_result"
    }
   ],
   "source": [
    "#ignore\n",
    "wording = '_ '*len('word')\n",
    "wording"
   ]
  },
  {
   "cell_type": "code",
   "execution_count": 15,
   "metadata": {},
   "outputs": [
    {
     "data": {
      "text/plain": [
       "'_ _ _ _ _ _ _ _ _ _ '"
      ]
     },
     "execution_count": 15,
     "metadata": {},
     "output_type": "execute_result"
    }
   ],
   "source": [
    "#ignore\n",
    "def creating_display(random_pick):\n",
    "    words_in_blanks = '_ '*len(random_pick)\n",
    "    return words_in_blanks\n",
    "\n",
    "creating_display(random_pick)"
   ]
  },
  {
   "cell_type": "code",
   "execution_count": 17,
   "metadata": {},
   "outputs": [
    {
     "data": {
      "text/plain": [
       "'_ _ _ _ _ _ _ _ _ _ '"
      ]
     },
     "execution_count": 17,
     "metadata": {},
     "output_type": "execute_result"
    }
   ],
   "source": [
    "#ignore\n",
    "word_blanks = '_ '*len(random_pick)\n",
    "word_blanks"
   ]
  },
  {
   "cell_type": "code",
   "execution_count": 20,
   "metadata": {},
   "outputs": [
    {
     "name": "stdout",
     "output_type": "stream",
     "text": [
      "Guess a letter: l\n",
      "thanks\n"
     ]
    }
   ],
   "source": [
    "#works\n",
    "def getting_input():\n",
    "    user_letter = str(input(\"Guess a letter: \"))\n",
    "    if check_input(user_letter) == True:\n",
    "        print(\"thanks\")\n",
    "    else:\n",
    "        print(\"Invalid input\")\n",
    "        user_letter = str(input(\"Guess a letter: \"))\n",
    "    return user_letter\n",
    "\n",
    "user_input = getting_input()"
   ]
  },
  {
   "cell_type": "markdown",
   "metadata": {},
   "source": [
    "### ignore for the moment \n",
    "guessed = []\n",
    "\n",
    "def get_input():\n",
    "    is_valid = False\n",
    "    while not is_valid:\n",
    "        letter_guessed = input(\"Guess a letter: \")\n",
    "        if is_valid == check_input(letter_guessed):\n",
    "            guessed.append(letter_guessed) \n",
    "            print(\"You guessed correctly\")\n",
    "            break\n",
    "        else:\n",
    "            print(\"invalid input\")\n",
    "    return letter_guessed\n",
    "\n",
    "get_input()    "
   ]
  },
  {
   "cell_type": "code",
   "execution_count": 19,
   "metadata": {},
   "outputs": [],
   "source": [
    "#works\n",
    "def check_input(user_letter):\n",
    "    abcs = string.ascii_lowercase\n",
    "    valid = (user_letter in abcs) and (len(user_letter) == 1)\n",
    "    return valid\n",
    "\n"
   ]
  },
  {
   "cell_type": "code",
   "execution_count": 21,
   "metadata": {},
   "outputs": [],
   "source": [
    "#works\n",
    "def update_display(display, random_word, user_letter):\n",
    "    for idx, letter in enumerate(random_word):\n",
    "        if letter == user_letter:\n",
    "            display[idx] = user_letter"
   ]
  },
  {
   "cell_type": "code",
   "execution_count": null,
   "metadata": {},
   "outputs": [],
   "source": [
    "letters_guessed = []\n",
    "\n",
    "def choose_random_word():\n",
    "    random_word = random.choices(word_list)\n",
    "    return random_word\n",
    "    \n",
    "random_pick = choose_random_word()[0]\n",
    "\n",
    "def create_display(random_pick):\n",
    "    display = ['_' for x in random_pick]\n",
    "    return display\n",
    "\n",
    "show_display = create_display(random_pick)\n",
    "\n",
    "def check_input(user_letter):\n",
    "    abcs = string.ascii_lowercase\n",
    "    valid = (user_letter in abcs) and (len(user_letter) == 1)\n",
    "    return valid\n",
    "\n",
    "def getting_input():\n",
    "    user_letter = str(input(\"Guess a letter: \"))\n",
    "    if check_input(user_letter) == True:\n",
    "        letters_guessed.append(user_letter)\n",
    "    else:\n",
    "        print(\"Invalid input\")\n",
    "        user_letter = str(input(\"Guess a letter: \"))\n",
    "    return user_letter\n",
    "\n",
    "user_input = getting_input()\n",
    "\n",
    "def update_display(display, random_word, user_letter):\n",
    "    for idx, letter in enumerate(random_word):\n",
    "        if letter == user_letter:\n",
    "            display[idx] = user_letter\n",
    "\n",
    "def play_hangman():\n",
    "    random_pick #random_word function\n",
    "    guessed_correctly = False\n",
    "    incorrect_guesses = 6\n",
    "    print(\"Let's start\")\n",
    "    print(\"You get 6 wrong guesses\")\n",
    "    \n",
    "    while not guessed_correctly and incorrect_guesses > 0:\n",
    "        show_display\n",
    "        user_letter = str(input(\"Guess a letter: \"))\n",
    "        if check_input(user_letter) == True:\n",
    "            letters_guessed.append(user_letter)\n",
    "        else:\n",
    "            print(\"Invalid input\")\n",
    "            user_letter = str(input(\"Guess a letter: \"))\n",
    "        if user_letter in letters_guessed:\n",
    "            print(\"You have already guessed that letter:\", user_letter)\n",
    "        elif user_letter not in random_word:\n",
    "            print(f\"The letter {user_letter} is not in the word\")\n",
    "            incorrect_guesses -= 1\n",
    "            letters_guessed.append(user_letter)\n",
    "        else:\n",
    "            print(f\"You guessed right! {user_letter} is in the word\")\n",
    "            letters_guessed.append(user_letter)\n",
    "            update_display(display, random_word, user_letter)\n",
    "            if \"_\" not in show_display:\n",
    "                guessed_correctly = True\n",
    "            else: \n",
    "                guessed_correctly = False\n",
    "            "
   ]
  },
  {
   "cell_type": "code",
   "execution_count": null,
   "metadata": {},
   "outputs": [],
   "source": [
    "play_hangman()"
   ]
  },
  {
   "cell_type": "code",
   "execution_count": null,
   "metadata": {},
   "outputs": [],
   "source": []
  }
 ],
 "metadata": {
  "kernelspec": {
   "display_name": "Python 3",
   "language": "python",
   "name": "python3"
  },
  "language_info": {
   "codemirror_mode": {
    "name": "ipython",
    "version": 3
   },
   "file_extension": ".py",
   "mimetype": "text/x-python",
   "name": "python",
   "nbconvert_exporter": "python",
   "pygments_lexer": "ipython3",
   "version": "3.7.6"
  }
 },
 "nbformat": 4,
 "nbformat_minor": 4
}
